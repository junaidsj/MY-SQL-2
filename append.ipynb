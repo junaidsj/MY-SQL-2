{
 "cells": [
  {
   "cell_type": "code",
   "execution_count": 1,
   "id": "f87e58e5-1e39-4293-be28-c9a1182441e6",
   "metadata": {},
   "outputs": [
    {
     "name": "stdout",
     "output_type": "stream",
     "text": [
      "1\n",
      "7\n",
      "5\n"
     ]
    }
   ],
   "source": [
    "class Node:\n",
    "    def __init__(self, value):\n",
    "        self.value = value\n",
    "        self.next = None\n",
    "\n",
    "class LinkedList:\n",
    "    def __init__(self, value):\n",
    "        new_node = Node(value)\n",
    "        self.head = new_node\n",
    "        self.tail = new_node\n",
    "        self.length = 1\n",
    "\n",
    "    def print_list(self):\n",
    "        temp = self.head\n",
    "        while temp is not None:\n",
    "            print(temp.value)\n",
    "            temp = temp.next\n",
    "\n",
    "    def append(self, value):\n",
    "        new_node = Node(value)\n",
    "        if self.head is None:\n",
    "            self.head = new_node\n",
    "            self.tail = new_node\n",
    "        else:\n",
    "            self.tail.next = new_node  # Fixed\n",
    "            self.tail = new_node\n",
    "        self.length += 1  # Should be outside the if-else\n",
    "\n",
    "    def pop(self):\n",
    "        if self.length == 0:\n",
    "            return None  # Fixed\n",
    "        temp = self.head  # Fixed\n",
    "        pre = self.head\n",
    "        while temp.next:\n",
    "            pre = temp\n",
    "            temp = temp.next\n",
    "        self.tail = pre\n",
    "        self.tail.next = None\n",
    "        self.length -= 1\n",
    "        if self.length == 0:  # Fixed spelling\n",
    "            self.head = None\n",
    "            self.tail = None\n",
    "        return temp\n",
    "    def prepend(self,value):\n",
    "        new_node=Node(value)\n",
    "        if self.length==0:\n",
    "            self.head=new_node\n",
    "            self.tail=new_node\n",
    "        else:\n",
    "            new_node.next=self.head\n",
    "            self.head=new_node\n",
    "        self.length +=1\n",
    "        return value\n",
    "\n",
    "# Testing\n",
    "my_linked_list = LinkedList(7)\n",
    "my_linked_list.append(5)\n",
    "my_linked_list.prepend(1)\n",
    "my_linked_list.print_list()\n",
    "\n"
   ]
  },
  {
   "cell_type": "code",
   "execution_count": null,
   "id": "c244e7f4-b31d-40ba-b439-9b58b9bb7ca7",
   "metadata": {},
   "outputs": [],
   "source": []
  }
 ],
 "metadata": {
  "kernelspec": {
   "display_name": "Python 3 (ipykernel)",
   "language": "python",
   "name": "python3"
  },
  "language_info": {
   "codemirror_mode": {
    "name": "ipython",
    "version": 3
   },
   "file_extension": ".py",
   "mimetype": "text/x-python",
   "name": "python",
   "nbconvert_exporter": "python",
   "pygments_lexer": "ipython3",
   "version": "3.12.7"
  }
 },
 "nbformat": 4,
 "nbformat_minor": 5
}
